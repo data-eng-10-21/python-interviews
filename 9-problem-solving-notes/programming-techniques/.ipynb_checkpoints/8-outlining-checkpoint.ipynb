{
 "cells": [
  {
   "cell_type": "markdown",
   "id": "b41e4430-818d-428c-adf9-f88070a6df1d",
   "metadata": {},
   "source": [
    "# Why outline\n",
    "\n",
    "1. What's the current problem\n",
    "    * What did we have before? What would the world be like if we didn't have it.\n",
    "2. What solution does this provide?\n",
    "3. How does it provide a solution?"
   ]
  },
  {
   "cell_type": "markdown",
   "id": "37b7f705-9945-49a2-8514-f55e5150e490",
   "metadata": {
    "tags": []
   },
   "source": [
    "### Resources\n",
    "\n",
    "* [Strategic Thinking in Complex Problem Solving](https://www.amazon.com/Strategic-Thinking-Complex-Problem-Solving/dp/0190463902)"
   ]
  },
  {
   "cell_type": "code",
   "execution_count": null,
   "id": "bdb4831e-c7b4-48f8-b2d2-9e0b61806139",
   "metadata": {},
   "outputs": [],
   "source": []
  }
 ],
 "metadata": {
  "kernelspec": {
   "display_name": "Python 3 (ipykernel)",
   "language": "python",
   "name": "python3"
  },
  "language_info": {
   "codemirror_mode": {
    "name": "ipython",
    "version": 3
   },
   "file_extension": ".py",
   "mimetype": "text/x-python",
   "name": "python",
   "nbconvert_exporter": "python",
   "pygments_lexer": "ipython3",
   "version": "3.9.7"
  }
 },
 "nbformat": 4,
 "nbformat_minor": 5
}
