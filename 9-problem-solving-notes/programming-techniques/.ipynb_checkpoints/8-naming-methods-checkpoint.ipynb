{
 "cells": [
  {
   "cell_type": "markdown",
   "id": "ccf280ce-6ffb-444a-bf02-8e61d30ffbab",
   "metadata": {},
   "source": [
    "# Styling Methods"
   ]
  },
  {
   "cell_type": "markdown",
   "id": "81847873-16f0-4062-8c1b-52fbce1b4a81",
   "metadata": {
    "tags": []
   },
   "source": [
    "### 1. Methods and encapsulation"
   ]
  },
  {
   "cell_type": "markdown",
   "id": "7772c38e-7c0c-4e1a-808b-bafca28a356f",
   "metadata": {},
   "source": [
    "> By encapsulation we mean grouping similar tasks together.\n",
    "\n",
    "> Notice that methods help us break down problems."
   ]
  },
  {
   "cell_type": "markdown",
   "id": "aa7c2e9f-9798-40a5-9e8b-eaeb6b7b04b8",
   "metadata": {
    "tags": []
   },
   "source": [
    "### 2. Methods and information hiding."
   ]
  },
  {
   "cell_type": "markdown",
   "id": "39c1f150-89a0-4210-9691-08f533fbf471",
   "metadata": {},
   "source": [
    "More about [functions here](https://colab.research.google.com/github/jigsawlabs-student/functions-review/blob/main/index.ipynb)."
   ]
  },
  {
   "cell_type": "markdown",
   "id": "6f676372-7bfd-46be-84d3-6208fda22a4c",
   "metadata": {},
   "source": [
    "### 3. Naming Methods."
   ]
  },
  {
   "cell_type": "markdown",
   "id": "13e2d451-d59c-48b0-9eb6-3011e95a1038",
   "metadata": {},
   "source": [
    "* Consider the method's effects.\n",
    "* Oftentimes our method has a return value.  And this can be the method's name.   \n",
    "* Always think about the client code, when readability."
   ]
  },
  {
   "cell_type": "markdown",
   "id": "32aa9f72-b30c-409d-81cf-9105b970278e",
   "metadata": {},
   "source": [
    "### Resources \n",
    "\n",
    "* Think Like a Programmer, Chapter 6"
   ]
  },
  {
   "cell_type": "code",
   "execution_count": null,
   "id": "a203ac1b-a293-4646-9c5a-f28ab3162087",
   "metadata": {},
   "outputs": [],
   "source": []
  }
 ],
 "metadata": {
  "kernelspec": {
   "display_name": "Python 3 (ipykernel)",
   "language": "python",
   "name": "python3"
  },
  "language_info": {
   "codemirror_mode": {
    "name": "ipython",
    "version": 3
   },
   "file_extension": ".py",
   "mimetype": "text/x-python",
   "name": "python",
   "nbconvert_exporter": "python",
   "pygments_lexer": "ipython3",
   "version": "3.9.7"
  }
 },
 "nbformat": 4,
 "nbformat_minor": 5
}
