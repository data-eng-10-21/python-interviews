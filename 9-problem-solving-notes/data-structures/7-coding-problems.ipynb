{
 "cells": [
  {
   "cell_type": "markdown",
   "id": "4e27f8e6-a219-4b3d-8153-c84dbd0d59d8",
   "metadata": {},
   "source": [
    "### Coding Problems"
   ]
  },
  {
   "cell_type": "markdown",
   "id": "ad5e229c-9d62-4b52-b9e0-36404e66d319",
   "metadata": {},
   "source": [
    "* What is the overall goal?  \n",
    "A. What are the inputs to the program?\n",
    "    * Read the test cases, and various inputs so that can process them.\n",
    "    * Numbers\n",
    "        * What are the range of values?\n",
    "    * Text \n",
    "        * Differences in the text (upper or lower case)\n",
    "B. What are the outputs to the program?\n",
    "    * "
   ]
  },
  {
   "cell_type": "markdown",
   "id": "50f07f5a-afd0-4bd3-8732-c53b7fb927d5",
   "metadata": {},
   "source": [
    "### Understanding the Problem"
   ]
  },
  {
   "cell_type": "markdown",
   "id": "958ae1c9-07e9-4097-af99-e0d08fe29a35",
   "metadata": {},
   "source": [
    "[Sample Problem](https://dmoj.ca/problem/lkp18c2p1)."
   ]
  },
  {
   "cell_type": "markdown",
   "id": "a34efe82-15f1-43c5-8a61-7211b4b98a03",
   "metadata": {},
   "source": [
    "After many years of continuous warfare, the country of Collea was left in shambles. This has caused food shortages and famines all across the country. In an attempt to distribute the little food that was produced and prevent food hoarding, the Collean government limited the amount of food that any one person can buy. \n",
    "\n",
    "\n",
    "> There's a limited amount of food for each person. \n",
    "\n",
    "\n",
    "Soon, Collean citizens are forced to wait in long lines in order to obtain the food they needed. There are currently 𝑁 such food lines in the city of Lachtin, the 𝑖th of which has 𝑎𝑖 people in it.\n",
    "\n",
    "> N lines, and ith has ai people.\n",
    "\n",
    "𝑀 people are going to enter one of the lines in the next hour, where they each enter the shortest line they see. Since Phreia plans to enter the line, she wants to know the length of the line that each person decides to join.\n",
    "\n"
   ]
  },
  {
   "cell_type": "markdown",
   "id": "8f911f2f-eaf4-4987-bc4d-d756266c67b4",
   "metadata": {},
   "source": [
    "> M people to enter line.  And each enter the shortest line, \n",
    "> so what is the length of the line each of M people decide to join."
   ]
  },
  {
   "cell_type": "markdown",
   "id": "17fae0a9-6213-4c01-a9bc-581019ea0ade",
   "metadata": {},
   "source": [
    "Example: \n",
    "    \n",
    "> Suppose three lines, and four people arrive \n",
    "\n",
    "* 1: 3 people\n",
    "* 2: 2 people\n",
    "* 3: 5 people"
   ]
  },
  {
   "cell_type": "markdown",
   "id": "405edb32-6b10-4ab5-ae9a-4b20d77aa51f",
   "metadata": {},
   "source": [
    "But also can store as, `[3, 2, 5]`"
   ]
  },
  {
   "cell_type": "markdown",
   "id": "feefd3c2-10de-4a86-a6ad-667edecd4ab0",
   "metadata": {},
   "source": [
    "### Understanding"
   ]
  },
  {
   "cell_type": "markdown",
   "id": "630dbf4c-4c9c-4624-9c88-6914220eb436",
   "metadata": {},
   "source": [
    "### Resources\n",
    "\n",
    "Algorithmic Thinking (Chapter 1)."
   ]
  },
  {
   "cell_type": "code",
   "execution_count": null,
   "id": "79c0dde9-83b1-40c1-b73d-e016bd3129ba",
   "metadata": {},
   "outputs": [],
   "source": []
  }
 ],
 "metadata": {
  "kernelspec": {
   "display_name": "Python 3 (ipykernel)",
   "language": "python",
   "name": "python3"
  },
  "language_info": {
   "codemirror_mode": {
    "name": "ipython",
    "version": 3
   },
   "file_extension": ".py",
   "mimetype": "text/x-python",
   "name": "python",
   "nbconvert_exporter": "python",
   "pygments_lexer": "ipython3",
   "version": "3.9.7"
  }
 },
 "nbformat": 4,
 "nbformat_minor": 5
}
