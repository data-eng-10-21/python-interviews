{
 "cells": [
  {
   "cell_type": "markdown",
   "id": "d81e2698-64ff-418d-ab5d-76bb402f274c",
   "metadata": {},
   "source": [
    "# Understanding the Problem - with clients"
   ]
  },
  {
   "cell_type": "markdown",
   "id": "e470b765-0203-4bdf-8188-ae7ad3a44d55",
   "metadata": {},
   "source": [
    "1. How do I sort a disk file?"
   ]
  },
  {
   "cell_type": "markdown",
   "id": "9bbe1acb-cdf3-4b1c-a284-eb8d819bb41d",
   "metadata": {},
   "source": [
    "* Why do you want to do this at all?\n",
    "* Why not use the provided sort system?\n",
    "* Can you give me example of how you plan on using this -- what are you sorting?\n"
   ]
  },
  {
   "cell_type": "markdown",
   "id": "75c371b8-2490-47be-89e2-afa7fcd55fdf",
   "metadata": {},
   "source": [
    "### Resources\n",
    "\n",
    "* How to Solve it Book.\n",
    "* Programming Pearls\n",
    "* Algorithmic Thinking"
   ]
  }
 ],
 "metadata": {
  "kernelspec": {
   "display_name": "Python 3 (ipykernel)",
   "language": "python",
   "name": "python3"
  },
  "language_info": {
   "codemirror_mode": {
    "name": "ipython",
    "version": 3
   },
   "file_extension": ".py",
   "mimetype": "text/x-python",
   "name": "python",
   "nbconvert_exporter": "python",
   "pygments_lexer": "ipython3",
   "version": "3.9.7"
  }
 },
 "nbformat": 4,
 "nbformat_minor": 5
}
