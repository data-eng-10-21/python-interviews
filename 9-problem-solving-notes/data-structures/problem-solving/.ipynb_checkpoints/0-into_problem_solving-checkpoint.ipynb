{
 "cells": [
  {
   "cell_type": "markdown",
   "id": "23d1f1a6-f246-41e0-bf51-3c85f848b6f3",
   "metadata": {},
   "source": [
    "# Intro to Problem Solving"
   ]
  },
  {
   "cell_type": "markdown",
   "id": "221558ae-26fe-46d6-9dd3-835b2cc787c8",
   "metadata": {},
   "source": [
    "* Problems include constraints, rules about the problem or the way it must be solved. \n",
    "* Problem solving is an original program that performs a set of tasks and meets all stated constraints.\n",
    "\n"
   ]
  },
  {
   "cell_type": "markdown",
   "id": "f7682e36-983f-44ab-9511-7b432c6eb374",
   "metadata": {},
   "source": [
    "### Overview"
   ]
  },
  {
   "cell_type": "markdown",
   "id": "8fc8a843-2859-42af-956a-f44d4e1a4106",
   "metadata": {},
   "source": [
    "General problem solving techniques:\n",
    "\n",
    "* **Always have a plan**\n",
    "\n",
    "    * Start with a real life example.\n",
    "    * If the real life example is too difficult, make it easier. (Eg. Sodoku)\n",
    "* When Stuck\n",
    "    1. What's the easiest part to get started with.\n",
    "    2. Can you go through all of the options.\n",
    "    3. Reframe and summarize."
   ]
  },
  {
   "cell_type": "markdown",
   "id": "97778fec-47f8-40f4-be96-c39aa515893c",
   "metadata": {},
   "source": [
    "### Understand the problem"
   ]
  },
  {
   "cell_type": "markdown",
   "id": "fc75ec4e-1b05-44b8-9d5c-73edf7e0b6e1",
   "metadata": {},
   "source": [
    "A. Restate the problem.\n",
    "* This confirms to yourself that you understand the problem\n",
    "* It also confirms to the interviewer/coworker that you understand the problem.\n",
    "    * If you don't understand the problem then opportunity to fix it.\n",
    "    \n",
    "* Questions to understand\n",
    "\n",
    "    * What is the goal.\n",
    "    * What are the constraints.\n",
    "    * When is the problem finished \n",
    "        * Goal complete/constraints met"
   ]
  },
  {
   "cell_type": "markdown",
   "id": "7400ef15-8a12-43b6-b5ce-227f9fac1167",
   "metadata": {},
   "source": [
    "### Develop a plan"
   ]
  },
  {
   "cell_type": "markdown",
   "id": "a4f6b699-bc9b-46c9-9f1e-8a2464a10ecf",
   "metadata": {},
   "source": [
    "> Always have a plan.\n",
    "\n",
    "* Problem: Without a plan you only have one goal, and that's to solve the whole problem.\n",
    "* Planning allows you to set intermediate goals and achieve them.  "
   ]
  },
  {
   "cell_type": "markdown",
   "id": "3d573c55-b006-413f-9256-fe6a7fb7775a",
   "metadata": {},
   "source": [
    "1. Start with a concrete example.\n",
    "    * It helps you to understand the problem.  And confirm that you understand the problem.\n",
    "2. Divide the problem\n",
    "    * Allows you to solve pieces individually, and separately make progress.\n",
    "  \n",
    "3. What's a real world example\n",
    "    1. What's the answer\n",
    "    2. Organize how your brain solved the problem.\n",
    "        * Write down these steps."
   ]
  },
  {
   "cell_type": "markdown",
   "id": "ed39d857-e9ec-4ba6-837b-f88af34be4cd",
   "metadata": {},
   "source": [
    "4. If still difficult, reduce the problem \n",
    "    * Can add or remove constraints.\n",
    "    * Choose a simpler example.\n",
    "   "
   ]
  },
  {
   "cell_type": "markdown",
   "id": "39c1b8e1-ac12-4df9-be0d-d89467902004",
   "metadata": {},
   "source": [
    "### Implementing the solution\n",
    "\n",
    "1. Start with what you know, tackle that first\n",
    "    * Complete any pieces you know how to code.\n",
    "2. Experiment\n",
    "    * Experimenting is not guessing, it's a hypothesis.  You are confirming or rejecting a belief."
   ]
  },
  {
   "cell_type": "markdown",
   "id": "bded5d4d-d588-47e5-9a58-46bf94779299",
   "metadata": {},
   "source": [
    "### The inner game of programming\n",
    "\n",
    "* Cultivate curiosity\n",
    "* Close the laptop, go for a walk.\n",
    "* Close the laptop, solve with a piece of paper"
   ]
  },
  {
   "cell_type": "markdown",
   "id": "5ea64b5f-f7ca-4746-b6a1-600e67d5ab84",
   "metadata": {},
   "source": [
    "### Resources\n",
    "\n",
    "* Think Like a Programmer, Chapter 1.\n",
    "* Sam Loyd Puzzles"
   ]
  }
 ],
 "metadata": {
  "kernelspec": {
   "display_name": "Python 3 (ipykernel)",
   "language": "python",
   "name": "python3"
  },
  "language_info": {
   "codemirror_mode": {
    "name": "ipython",
    "version": 3
   },
   "file_extension": ".py",
   "mimetype": "text/x-python",
   "name": "python",
   "nbconvert_exporter": "python",
   "pygments_lexer": "ipython3",
   "version": "3.9.7"
  }
 },
 "nbformat": 4,
 "nbformat_minor": 5
}
