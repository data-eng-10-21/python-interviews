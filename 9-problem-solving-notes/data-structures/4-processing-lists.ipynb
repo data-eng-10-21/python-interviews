{
 "cells": [
  {
   "cell_type": "markdown",
   "id": "56d478a4-ac05-4bb4-852e-90628a17dbaa",
   "metadata": {},
   "source": [
    "# Simplifying Lists"
   ]
  },
  {
   "cell_type": "markdown",
   "id": "0970cb6a-8765-4a9b-a352-e8458382369e",
   "metadata": {},
   "source": [
    "Lists are referenced by numbers called *subscripts*.  "
   ]
  },
  {
   "cell_type": "markdown",
   "id": "91003263-34e2-494c-a029-2e4e5973ef88",
   "metadata": {},
   "source": [
    "### Preprocessing Lists"
   ]
  },
  {
   "cell_type": "markdown",
   "id": "05e40aeb-c6fb-46d6-986b-943b701daf62",
   "metadata": {},
   "source": [
    "1. Removing certain elements in a list"
   ]
  },
  {
   "cell_type": "markdown",
   "id": "ff84e113-92d0-4704-a7d4-2e5ac58ac6d9",
   "metadata": {},
   "source": [
    "2. Coercing elements in a list"
   ]
  },
  {
   "cell_type": "markdown",
   "id": "9acc802e-406e-48a4-83c4-7100bb2bb0b7",
   "metadata": {},
   "source": [
    "> Map"
   ]
  },
  {
   "cell_type": "markdown",
   "id": "9ad5a42c-7f1a-4490-a872-49d878d5e8b0",
   "metadata": {},
   "source": [
    "3. Sorting lists"
   ]
  },
  {
   "cell_type": "markdown",
   "id": "6cf3b156-99ff-43d5-ad91-722d67d2cbc6",
   "metadata": {},
   "source": [
    "* Can create a histogram"
   ]
  },
  {
   "cell_type": "markdown",
   "id": "f12a2cd9-1765-4fee-97d8-092d57cbea4e",
   "metadata": {},
   "source": [
    "4. Lists to dictionaries/histograms"
   ]
  },
  {
   "cell_type": "markdown",
   "id": "a782b7ed-3c02-4129-aea5-18a45ab4686e",
   "metadata": {},
   "source": [
    "### Return Values"
   ]
  },
  {
   "cell_type": "markdown",
   "id": "63e05b43-5f68-40e6-b744-d7f8a7f85de5",
   "metadata": {},
   "source": [
    "1. Finding in a list"
   ]
  },
  {
   "cell_type": "markdown",
   "id": "838ac203-e3de-4bbb-bf62-bd1b5394a065",
   "metadata": {},
   "source": [
    "### Resources"
   ]
  },
  {
   "cell_type": "markdown",
   "id": "1357f934-cd9d-4a02-bff4-ce6450c07fe8",
   "metadata": {},
   "source": [
    "[Data Structures Outline](https://docs.google.com/document/d/1wFiM_mQRJUZjO7FiOkNpfOweRdglvX7mJf0zl_pJE9U)"
   ]
  }
 ],
 "metadata": {
  "kernelspec": {
   "display_name": "Python 3 (ipykernel)",
   "language": "python",
   "name": "python3"
  },
  "language_info": {
   "codemirror_mode": {
    "name": "ipython",
    "version": 3
   },
   "file_extension": ".py",
   "mimetype": "text/x-python",
   "name": "python",
   "nbconvert_exporter": "python",
   "pygments_lexer": "ipython3",
   "version": "3.9.7"
  }
 },
 "nbformat": 4,
 "nbformat_minor": 5
}
