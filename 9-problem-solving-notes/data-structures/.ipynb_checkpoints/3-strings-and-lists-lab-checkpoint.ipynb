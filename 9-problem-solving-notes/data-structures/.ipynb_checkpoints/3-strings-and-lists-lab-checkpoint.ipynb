{
 "cells": [
  {
   "cell_type": "markdown",
   "id": "88bb02a7-e482-4037-ab1b-62eb0f21da46",
   "metadata": {},
   "source": [
    "# Simple Problems"
   ]
  },
  {
   "cell_type": "markdown",
   "id": "257da8c7-f7e0-4f3b-94ee-52512827aef0",
   "metadata": {},
   "source": [
    "1. Determine if a string is a palindrome"
   ]
  },
  {
   "cell_type": "markdown",
   "id": "5a57095d-99f6-4388-a8f8-d474962eb5a5",
   "metadata": {},
   "source": [
    "2. Given a dictionary, find all sets of anagrams.\n",
    "\n",
    "> Eg. pots, stop, and tops are all anagrams of one another."
   ]
  },
  {
   "cell_type": "markdown",
   "id": "30975c28-2c63-4ed5-a7a3-d780bd13281c",
   "metadata": {},
   "source": [
    "3. Coding through problems"
   ]
  },
  {
   "cell_type": "markdown",
   "id": "452f8b01-8e81-4055-8b03-de9164ba1cd8",
   "metadata": {},
   "source": [
    "* Snowflake example"
   ]
  },
  {
   "cell_type": "markdown",
   "id": "5f32f971-f7ec-4086-a520-8b07f0034cb6",
   "metadata": {},
   "source": [
    "> Identical"
   ]
  },
  {
   "cell_type": "code",
   "execution_count": 1,
   "id": "926121ca-254e-4d07-a255-c642e7039b1d",
   "metadata": {},
   "outputs": [],
   "source": [
    "sn_1 = [1, 2, 3, 4, 5, 6]\n",
    "\n",
    "sn_2 = [4, 5, 6, 1, 2, 3]"
   ]
  },
  {
   "cell_type": "markdown",
   "id": "1511c5cb-4e4c-437f-b4aa-0ff7c6da464d",
   "metadata": {},
   "source": [
    "> Also identical - moving leftward"
   ]
  },
  {
   "cell_type": "code",
   "execution_count": 2,
   "id": "7f92b584-fea2-4cd8-a95a-7b7371e7297b",
   "metadata": {},
   "outputs": [],
   "source": [
    "sn_3 = [1, 2, 3, 4, 5, 6]\n",
    "\n",
    "sn_4 = [3, 2, 1, 6, 5, 4]"
   ]
  },
  {
   "cell_type": "markdown",
   "id": "02e5cb0d-89bc-4afa-8b85-250f09186f75",
   "metadata": {},
   "source": [
    "So then check moving right, and also check moving right."
   ]
  },
  {
   "cell_type": "code",
   "execution_count": null,
   "id": "461cd72c-928a-4536-a418-1f9b921a9b14",
   "metadata": {},
   "outputs": [],
   "source": []
  },
  {
   "cell_type": "markdown",
   "id": "7f1ed2bd-3774-486e-bb80-8b06e19ced8d",
   "metadata": {},
   "source": [
    "3. Rotate an n element list i positions.\n",
    "* Eg. n = 8, and i = 3\n",
    "* `\"abcdefgh\"` to `\"defghabc\"`\n",
    "\n",
    "> Should be able to accomplish this in only n steps."
   ]
  },
  {
   "cell_type": "code",
   "execution_count": null,
   "id": "f5680b34-b0b7-4c2d-bac9-c83b6ac26661",
   "metadata": {},
   "outputs": [],
   "source": []
  }
 ],
 "metadata": {
  "kernelspec": {
   "display_name": "Python 3 (ipykernel)",
   "language": "python",
   "name": "python3"
  },
  "language_info": {
   "codemirror_mode": {
    "name": "ipython",
    "version": 3
   },
   "file_extension": ".py",
   "mimetype": "text/x-python",
   "name": "python",
   "nbconvert_exporter": "python",
   "pygments_lexer": "ipython3",
   "version": "3.9.7"
  }
 },
 "nbformat": 4,
 "nbformat_minor": 5
}
