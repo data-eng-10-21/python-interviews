{
 "cells": [
  {
   "cell_type": "markdown",
   "id": "bb323599-2aa7-4646-a5f4-37a86e60d081",
   "metadata": {},
   "source": [
    "# Simplifying Loops"
   ]
  },
  {
   "cell_type": "markdown",
   "id": "1b9dbdf5-4b59-4441-a1c1-16f74d805767",
   "metadata": {},
   "source": [
    "* Instead of solving for all, solve for a single one.\n",
    "\n",
    "1. Problem produce statement that produces a right triangle\n",
    "\n",
    "``` \n",
    "##### \n",
    "####\n",
    "###\n",
    "##\n",
    "#\n",
    "```"
   ]
  },
  {
   "cell_type": "markdown",
   "id": "af01a6aa-8280-47a2-8f18-902958955402",
   "metadata": {},
   "source": [
    "A. Simplify\n",
    "* Single Line\n",
    "* Produce entire square\n",
    "* "
   ]
  },
  {
   "cell_type": "markdown",
   "id": "7dbce0db-e932-43db-b691-f38a3eb07c3c",
   "metadata": {},
   "source": [
    "2. Write a program that displays a sideways triangle"
   ]
  },
  {
   "cell_type": "markdown",
   "id": "444ca437-092b-403e-b380-c598ccdd4d2c",
   "metadata": {},
   "source": [
    "``` \n",
    "# \n",
    "##\n",
    "###\n",
    "####\n",
    "###\n",
    "##\n",
    "#\n",
    "```"
   ]
  },
  {
   "cell_type": "markdown",
   "id": "44e078d7-514e-40ac-9d70-900be7d83264",
   "metadata": {},
   "source": [
    "3. Write a program that does the following."
   ]
  },
  {
   "cell_type": "markdown",
   "id": "465daf5a-e2a0-42a1-96ce-45de12739632",
   "metadata": {},
   "source": [
    "```\n",
    "   #         # \n",
    "    ##      ##\n",
    "    ###    ###\n",
    "     ########\n",
    "    ###    ###\n",
    "   ##        ##\n",
    "  #            #\n",
    "```"
   ]
  },
  {
   "cell_type": "code",
   "execution_count": null,
   "id": "44c61d01-1474-4c2d-b0dc-4002018d028b",
   "metadata": {},
   "outputs": [],
   "source": []
  }
 ],
 "metadata": {
  "kernelspec": {
   "display_name": "Python 3 (ipykernel)",
   "language": "python",
   "name": "python3"
  },
  "language_info": {
   "codemirror_mode": {
    "name": "ipython",
    "version": 3
   },
   "file_extension": ".py",
   "mimetype": "text/x-python",
   "name": "python",
   "nbconvert_exporter": "python",
   "pygments_lexer": "ipython3",
   "version": "3.9.7"
  }
 },
 "nbformat": 4,
 "nbformat_minor": 5
}
