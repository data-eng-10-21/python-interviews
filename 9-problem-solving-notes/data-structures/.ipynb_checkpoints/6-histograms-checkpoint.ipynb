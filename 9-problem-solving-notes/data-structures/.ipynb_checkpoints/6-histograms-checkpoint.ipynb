{
 "cells": [
  {
   "cell_type": "markdown",
   "id": "53a49d17-a27f-43b1-8c51-82904d92b47f",
   "metadata": {},
   "source": [
    "# Histograms"
   ]
  },
  {
   "cell_type": "markdown",
   "id": "dd77b77b-608f-4c89-bd6e-c5081d8deb34",
   "metadata": {},
   "source": [
    "1. Histograms"
   ]
  },
  {
   "cell_type": "markdown",
   "id": "f82d4618-310e-4f8a-8415-aef0732e04ef",
   "metadata": {},
   "source": [
    "\n",
    "> And also notice that a dictionary and lists are equivalent, but with a list the key is an index.\n",
    "* So we can "
   ]
  },
  {
   "cell_type": "markdown",
   "id": "c0cd535f-634b-4a9d-a615-32a7a4dc7632",
   "metadata": {},
   "source": [
    "2. Searching\n"
   ]
  },
  {
   "cell_type": "markdown",
   "id": "60f7dc00-bc35-4395-a9cc-dde1152d7f76",
   "metadata": {},
   "source": [
    "> Signatures\n",
    "\n",
    "* Signatures -> Every item in the class has the same signature and no other item does\n"
   ]
  },
  {
   "cell_type": "code",
   "execution_count": null,
   "id": "7b04df9a-a680-4bcd-a822-83158b26bb59",
   "metadata": {},
   "outputs": [],
   "source": []
  }
 ],
 "metadata": {
  "kernelspec": {
   "display_name": "Python 3 (ipykernel)",
   "language": "python",
   "name": "python3"
  },
  "language_info": {
   "codemirror_mode": {
    "name": "ipython",
    "version": 3
   },
   "file_extension": ".py",
   "mimetype": "text/x-python",
   "name": "python",
   "nbconvert_exporter": "python",
   "pygments_lexer": "ipython3",
   "version": "3.9.7"
  }
 },
 "nbformat": 4,
 "nbformat_minor": 5
}
