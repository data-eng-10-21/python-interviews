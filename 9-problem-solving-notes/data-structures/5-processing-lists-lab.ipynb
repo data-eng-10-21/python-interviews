{
 "cells": [
  {
   "cell_type": "markdown",
   "id": "108c498d-2b42-4764-b2fd-b6c7b4ccd0ee",
   "metadata": {},
   "source": [
    "# Simplifying Lists Lab"
   ]
  },
  {
   "cell_type": "markdown",
   "id": "29d893cd-20ee-402f-b217-68228168409e",
   "metadata": {},
   "source": [
    "* Lots of times, this can be easier with a sorted list.\n",
    "    Eg. Min, Max, Median, Mode\n",
    "    \n",
    "* Finding the mode:\n",
    "    * Change the data structure\n",
    "        * Can sort the list and then\n",
    "        * just keep track of currentFrequency vs highestFrequency.\n",
    "        \n",
    "* Write a function to determine if a list is sorted, without the sorted method."
   ]
  },
  {
   "cell_type": "code",
   "execution_count": null,
   "id": "5644000f-35c2-49ad-ae69-d0c828a16ed8",
   "metadata": {},
   "outputs": [],
   "source": []
  }
 ],
 "metadata": {
  "kernelspec": {
   "display_name": "Python 3 (ipykernel)",
   "language": "python",
   "name": "python3"
  },
  "language_info": {
   "codemirror_mode": {
    "name": "ipython",
    "version": 3
   },
   "file_extension": ".py",
   "mimetype": "text/x-python",
   "name": "python",
   "nbconvert_exporter": "python",
   "pygments_lexer": "ipython3",
   "version": "3.9.7"
  }
 },
 "nbformat": 4,
 "nbformat_minor": 5
}
