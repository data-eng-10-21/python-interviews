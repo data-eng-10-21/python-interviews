{
 "cells": [
  {
   "cell_type": "markdown",
   "id": "88bb02a7-e482-4037-ab1b-62eb0f21da46",
   "metadata": {},
   "source": [
    "# Simple Problems"
   ]
  },
  {
   "cell_type": "markdown",
   "id": "257da8c7-f7e0-4f3b-94ee-52512827aef0",
   "metadata": {},
   "source": [
    "1. Determine if a string is a palindrome"
   ]
  },
  {
   "cell_type": "markdown",
   "id": "5a57095d-99f6-4388-a8f8-d474962eb5a5",
   "metadata": {},
   "source": [
    "2. Given a dictionary, find all sets of anagrams.\n",
    "\n",
    "> Eg. pots, stop, and tops are all anagrams of one another."
   ]
  },
  {
   "cell_type": "markdown",
   "id": "30975c28-2c63-4ed5-a7a3-d780bd13281c",
   "metadata": {},
   "source": [
    "3. Coding through problems"
   ]
  },
  {
   "cell_type": "code",
   "execution_count": null,
   "id": "461cd72c-928a-4536-a418-1f9b921a9b14",
   "metadata": {},
   "outputs": [],
   "source": []
  },
  {
   "cell_type": "markdown",
   "id": "7f1ed2bd-3774-486e-bb80-8b06e19ced8d",
   "metadata": {},
   "source": [
    "3. Rotate an n element list i positions.\n",
    "* Eg. n = 8, and i = 3\n",
    "* `\"abcdefgh\"` to `\"defghabc\"`\n",
    "\n",
    "> Should be able to accomplish this in only n steps."
   ]
  },
  {
   "cell_type": "code",
   "execution_count": null,
   "id": "f5680b34-b0b7-4c2d-bac9-c83b6ac26661",
   "metadata": {},
   "outputs": [],
   "source": []
  }
 ],
 "metadata": {
  "kernelspec": {
   "display_name": "Python 3 (ipykernel)",
   "language": "python",
   "name": "python3"
  },
  "language_info": {
   "codemirror_mode": {
    "name": "ipython",
    "version": 3
   },
   "file_extension": ".py",
   "mimetype": "text/x-python",
   "name": "python",
   "nbconvert_exporter": "python",
   "pygments_lexer": "ipython3",
   "version": "3.9.7"
  }
 },
 "nbformat": 4,
 "nbformat_minor": 5
}
