{
 "cells": [
  {
   "cell_type": "markdown",
   "id": "dee314f0-78ee-4b97-b898-2ab756d82359",
   "metadata": {},
   "source": [
    "# Removing if else"
   ]
  },
  {
   "cell_type": "markdown",
   "id": "f616978b-b88b-4a67-8577-d72afe9cca4f",
   "metadata": {},
   "source": [
    "1. Switch statement to dictionary/list\n",
    "\n",
    "> Notice that we can alternate between a switch statement and a dictionary.\n"
   ]
  },
  {
   "cell_type": "markdown",
   "id": "ae6dd5bc-636e-48e2-a42a-4d571b0ce3fe",
   "metadata": {},
   "source": [
    "* Consider calculating taxes, different policies or displays."
   ]
  },
  {
   "cell_type": "markdown",
   "id": "4a0202b0-fda1-4086-9809-eb3dcc106696",
   "metadata": {},
   "source": [
    "2. So when to use if else."
   ]
  },
  {
   "cell_type": "markdown",
   "id": "15d4d11c-7a05-4cff-8097-bf83693ed4f1",
   "metadata": {},
   "source": [
    "If there's only one case, then it's ok.  But oftentimes, we can handle that single case separately."
   ]
  },
  {
   "cell_type": "markdown",
   "id": "a746d4f4-3c8f-4b8e-83b6-edfbc30355e8",
   "metadata": {},
   "source": [
    "2. Coercing/removing data"
   ]
  }
 ],
 "metadata": {
  "kernelspec": {
   "display_name": "Python 3 (ipykernel)",
   "language": "python",
   "name": "python3"
  },
  "language_info": {
   "codemirror_mode": {
    "name": "ipython",
    "version": 3
   },
   "file_extension": ".py",
   "mimetype": "text/x-python",
   "name": "python",
   "nbconvert_exporter": "python",
   "pygments_lexer": "ipython3",
   "version": "3.9.7"
  }
 },
 "nbformat": 4,
 "nbformat_minor": 5
}
